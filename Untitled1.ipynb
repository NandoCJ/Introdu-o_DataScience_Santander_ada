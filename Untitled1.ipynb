{
 "cells": [
  {
   "cell_type": "code",
   "execution_count": 1,
   "id": "76aa8dc0-8ba2-49e1-b2f9-ad440967a5ff",
   "metadata": {},
   "outputs": [],
   "source": [
    "import numpy as np"
   ]
  },
  {
   "cell_type": "code",
   "execution_count": 2,
   "id": "627ad904-6e61-4919-809c-6306d5179df5",
   "metadata": {},
   "outputs": [],
   "source": [
    "lista = [1,2,3,4,5,6]\n",
    "array = np.array (lista)"
   ]
  },
  {
   "cell_type": "code",
   "execution_count": 3,
   "id": "bb885daa-78fd-4659-a2a6-06b167e0968a",
   "metadata": {},
   "outputs": [
    {
     "name": "stdout",
     "output_type": "stream",
     "text": [
      "[1, 2, 3, 4, 5, 6]\n"
     ]
    }
   ],
   "source": [
    "print(lista)"
   ]
  },
  {
   "cell_type": "code",
   "execution_count": 4,
   "id": "e7a85b39-d743-42d8-82bb-4dbaa21ea49a",
   "metadata": {},
   "outputs": [
    {
     "name": "stdout",
     "output_type": "stream",
     "text": [
      "[1 2 3 4 5 6]\n"
     ]
    }
   ],
   "source": [
    "print(array)"
   ]
  },
  {
   "cell_type": "code",
   "execution_count": 6,
   "id": "988efcdd-4677-4941-973e-1f4c89cc0749",
   "metadata": {},
   "outputs": [
    {
     "name": "stdout",
     "output_type": "stream",
     "text": [
      "[0. 0. 0. 0. 0. 0. 0. 0. 0. 0.]\n"
     ]
    }
   ],
   "source": [
    "arr_zeros = np.zeros(10)\n",
    "print(arr_zeros)"
   ]
  },
  {
   "cell_type": "code",
   "execution_count": 7,
   "id": "50d8bde0-95a6-462b-bad3-45b8684fda04",
   "metadata": {},
   "outputs": [],
   "source": [
    "array[0] = 9"
   ]
  },
  {
   "cell_type": "code",
   "execution_count": 9,
   "id": "4034a64c-cd61-4f38-9124-d5580686463a",
   "metadata": {},
   "outputs": [
    {
     "name": "stdout",
     "output_type": "stream",
     "text": [
      "[9 2 3 4 5 6]\n"
     ]
    }
   ],
   "source": [
    "print(array)"
   ]
  },
  {
   "cell_type": "code",
   "execution_count": 12,
   "id": "093a1d3a-7876-4c8d-ae7a-68de65d6a5cc",
   "metadata": {},
   "outputs": [
    {
     "name": "stdout",
     "output_type": "stream",
     "text": [
      "[[0. 0. 0.]\n",
      " [0. 0. 0.]\n",
      " [0. 0. 0.]\n",
      " [0. 0. 0.]\n",
      " [0. 0. 0.]]\n"
     ]
    }
   ],
   "source": [
    "##matrizes\n",
    "matriz_zeros=np.zeros((5,3))\n",
    "print(matriz_zeros)"
   ]
  },
  {
   "cell_type": "code",
   "execution_count": 16,
   "id": "d68bcfd0-a48e-446d-9ea6-fd2c1e59725f",
   "metadata": {},
   "outputs": [
    {
     "name": "stdout",
     "output_type": "stream",
     "text": [
      "maximo 9.8\n",
      "minimo 5.6\n",
      "desvio padrao 1.5628179676469045\n",
      "media 7.76\n",
      "posição do menor 1\n"
     ]
    }
   ],
   "source": [
    "lista_de_notas=[9.8,5.6,7.8,9.1,6.5]\n",
    "notas=np.array(lista_de_notas)\n",
    "print('maximo',notas.max())\n",
    "print('minimo',notas.min())\n",
    "print('desvio padrao',notas.std())\n",
    "print('media',notas.mean())\n",
    "print('posição do menor',notas.argmin())"
   ]
  },
  {
   "cell_type": "code",
   "execution_count": 19,
   "id": "c732847f-6a64-426b-9fda-1d65bc6713a7",
   "metadata": {},
   "outputs": [],
   "source": [
    "##Mascaras booleanas"
   ]
  },
  {
   "cell_type": "code",
   "execution_count": 20,
   "id": "985623b7-242a-450a-b3b4-a3d1b60e377c",
   "metadata": {},
   "outputs": [],
   "source": [
    "is_covid_positive = np.array(['yes','no','yes','yes', 'no', 'no'])"
   ]
  },
  {
   "cell_type": "code",
   "execution_count": 21,
   "id": "09f0cca1-4590-4f29-b9c6-755b7878aaea",
   "metadata": {},
   "outputs": [
    {
     "name": "stdout",
     "output_type": "stream",
     "text": [
      "['yes' 'no' 'yes' 'yes' 'no' 'no']\n"
     ]
    }
   ],
   "source": [
    "print(is_covid_positive)"
   ]
  },
  {
   "cell_type": "code",
   "execution_count": 22,
   "id": "90b876dc-b05f-4744-ab40-d29c683748d1",
   "metadata": {},
   "outputs": [
    {
     "name": "stdout",
     "output_type": "stream",
     "text": [
      "[ True False  True  True False False]\n"
     ]
    }
   ],
   "source": [
    "mask = (is_covid_positive=='yes')\n",
    "print(mask)"
   ]
  },
  {
   "cell_type": "code",
   "execution_count": 24,
   "id": "ac7aecf9-ae04-4add-99cf-504736e1f2ba",
   "metadata": {},
   "outputs": [
    {
     "name": "stdout",
     "output_type": "stream",
     "text": [
      "['yes' 'yes' 'yes']\n"
     ]
    }
   ],
   "source": [
    "##comparaçao\n",
    "print(is_covid_positive[mask])"
   ]
  },
  {
   "cell_type": "code",
   "execution_count": 25,
   "id": "d23f2ddc-9d80-4b5e-b097-dc248b2ca65d",
   "metadata": {},
   "outputs": [],
   "source": [
    "##edição\n",
    "is_covid_positive[mask]='C19'"
   ]
  },
  {
   "cell_type": "code",
   "execution_count": 26,
   "id": "e1054a18-2d7a-4dc9-b328-99db2ded9575",
   "metadata": {},
   "outputs": [
    {
     "name": "stdout",
     "output_type": "stream",
     "text": [
      "['C19' 'no' 'C19' 'C19' 'no' 'no']\n"
     ]
    }
   ],
   "source": [
    "print(is_covid_positive)"
   ]
  },
  {
   "cell_type": "code",
   "execution_count": 27,
   "id": "9d0e4fdf-eb24-47db-bce3-529dbec7b869",
   "metadata": {},
   "outputs": [],
   "source": [
    "notas = np.array([6.9,4.9,3.2,6.7])"
   ]
  },
  {
   "cell_type": "code",
   "execution_count": 28,
   "id": "8af3dfbb-d7e6-4122-a8db-2a709dd4f0fb",
   "metadata": {},
   "outputs": [
    {
     "name": "stdout",
     "output_type": "stream",
     "text": [
      "[ True False False  True]\n"
     ]
    }
   ],
   "source": [
    "mask_notas = (notas >=5)\n",
    "print(mask_notas)"
   ]
  },
  {
   "cell_type": "code",
   "execution_count": 29,
   "id": "c08df89a-beae-453b-8078-8fd8ee9b9312",
   "metadata": {},
   "outputs": [],
   "source": [
    "##Panda Series"
   ]
  },
  {
   "cell_type": "code",
   "execution_count": 2,
   "id": "81091ecb-83ad-46a6-b702-6c4f28d27254",
   "metadata": {},
   "outputs": [],
   "source": [
    "import pandas as pd"
   ]
  },
  {
   "cell_type": "code",
   "execution_count": 33,
   "id": "11c351d1-4755-42f6-87d1-9b77f7ef6898",
   "metadata": {},
   "outputs": [],
   "source": [
    "lista = [12,23,34,45,58,67]\n",
    "serie_pandas = pd.Series(lista)"
   ]
  },
  {
   "cell_type": "code",
   "execution_count": 37,
   "id": "fc54e841-8922-4f51-83a8-9ae8094712d5",
   "metadata": {},
   "outputs": [
    {
     "name": "stdout",
     "output_type": "stream",
     "text": [
      "0    12\n",
      "1    23\n",
      "2    34\n",
      "3    45\n",
      "4    58\n",
      "5    67\n",
      "dtype: int64\n",
      "12\n"
     ]
    }
   ],
   "source": [
    "print(serie_pandas)\n",
    "print(serie_pandas[0])"
   ]
  },
  {
   "cell_type": "code",
   "execution_count": 38,
   "id": "2af80193-928d-4c75-b62b-1ac836267ed0",
   "metadata": {},
   "outputs": [
    {
     "name": "stdout",
     "output_type": "stream",
     "text": [
      "tiago        8.0\n",
      "guilherme    9.5\n",
      "juca         6.2\n",
      "dtype: float64\n"
     ]
    }
   ],
   "source": [
    "notas = {'tiago':8, 'guilherme':9.5,'juca':6.2}\n",
    "serie_notas = pd.Series(notas)\n",
    "print(serie_notas)"
   ]
  },
  {
   "cell_type": "code",
   "execution_count": 39,
   "id": "75efa859-e36a-4db2-8e6f-f902d2021500",
   "metadata": {},
   "outputs": [
    {
     "name": "stdout",
     "output_type": "stream",
     "text": [
      "8.0\n"
     ]
    }
   ],
   "source": [
    "print(serie_notas['tiago'])"
   ]
  },
  {
   "cell_type": "code",
   "execution_count": 40,
   "id": "7c5ce579-08b3-4250-a240-cd099e5dc20b",
   "metadata": {},
   "outputs": [
    {
     "name": "stdout",
     "output_type": "stream",
     "text": [
      "7.8999999999999995\n",
      "8.0\n"
     ]
    }
   ],
   "source": [
    "print(serie_notas.mean())\n",
    "print(serie_notas.median())"
   ]
  },
  {
   "cell_type": "code",
   "execution_count": 41,
   "id": "6d3ffa5a-a9af-4f43-bb43-5a854fa7c5c4",
   "metadata": {},
   "outputs": [
    {
     "name": "stdout",
     "output_type": "stream",
     "text": [
      "count    3.000000\n",
      "mean     7.900000\n",
      "std      1.652271\n",
      "min      6.200000\n",
      "25%      7.100000\n",
      "50%      8.000000\n",
      "75%      8.750000\n",
      "max      9.500000\n",
      "dtype: float64\n"
     ]
    }
   ],
   "source": [
    "print(serie_notas.describe())"
   ]
  },
  {
   "cell_type": "code",
   "execution_count": 42,
   "id": "fe3b67bf-c5bf-40c6-b91d-3c47034f2aa0",
   "metadata": {},
   "outputs": [],
   "source": [
    "## estudo de dataframe"
   ]
  },
  {
   "cell_type": "code",
   "execution_count": 3,
   "id": "6303be9d-53d2-4ca2-a2e5-962cbb520198",
   "metadata": {},
   "outputs": [],
   "source": [
    "##criar um dicionario com autores, livros e preço\n",
    "dicionario = {'Autores':['Rick Riordan','J. R. R. Tolkien','Rick Riordan', 'Machado de Assis'],'Titulos':['ladrão de raios', 'sociedade do anel', 'mar de monstros','memorias postumas de bras cubas'],'Preço':[41.2,35.7,39.5,40.5]}"
   ]
  },
  {
   "cell_type": "code",
   "execution_count": 4,
   "id": "3654e635-e01c-4b67-bc58-c8d9edb00266",
   "metadata": {},
   "outputs": [
    {
     "name": "stdout",
     "output_type": "stream",
     "text": [
      "            Autores                          Titulos  Preço\n",
      "0      Rick Riordan                  ladrão de raios   41.2\n",
      "1  J. R. R. Tolkien                sociedade do anel   35.7\n",
      "2      Rick Riordan                  mar de monstros   39.5\n",
      "3  Machado de Assis  memorias postumas de bras cubas   40.5\n"
     ]
    }
   ],
   "source": [
    "##datafrane\n",
    "df = pd.DataFrame(dicionario)\n",
    "print(df)"
   ]
  },
  {
   "cell_type": "code",
   "execution_count": 5,
   "id": "7d338cc8-ffdf-4b4c-a644-52b9bf3520a6",
   "metadata": {},
   "outputs": [
    {
     "data": {
      "text/plain": [
       "0        Rick Riordan\n",
       "1    J. R. R. Tolkien\n",
       "2        Rick Riordan\n",
       "3    Machado de Assis\n",
       "Name: Autores, dtype: object"
      ]
     },
     "execution_count": 5,
     "metadata": {},
     "output_type": "execute_result"
    }
   ],
   "source": [
    "df['Autores']"
   ]
  },
  {
   "cell_type": "code",
   "execution_count": 48,
   "id": "39a2a426-45c2-4073-8f71-b2e368763b9d",
   "metadata": {},
   "outputs": [
    {
     "data": {
      "text/plain": [
       "'Rick Riordan'"
      ]
     },
     "execution_count": 48,
     "metadata": {},
     "output_type": "execute_result"
    }
   ],
   "source": [
    "df['Autores'][2]"
   ]
  },
  {
   "cell_type": "code",
   "execution_count": 54,
   "id": "45dd43bb-4b8f-4e2f-a91c-135b485c707c",
   "metadata": {},
   "outputs": [
    {
     "name": "stdout",
     "output_type": "stream",
     "text": [
      "0    41.2\n",
      "1    35.7\n",
      "2    39.5\n",
      "3    40.5\n",
      "Name: Preço, dtype: float64\n"
     ]
    }
   ],
   "source": [
    "print(df['Preço'])"
   ]
  },
  {
   "cell_type": "code",
   "execution_count": 55,
   "id": "9e89de86-b90d-46d5-804f-478da33fd805",
   "metadata": {},
   "outputs": [
    {
     "data": {
      "text/plain": [
       "39.225"
      ]
     },
     "execution_count": 55,
     "metadata": {},
     "output_type": "execute_result"
    }
   ],
   "source": [
    "df['Preço'].mean()"
   ]
  },
  {
   "cell_type": "code",
   "execution_count": 57,
   "id": "eca882d3-a909-4894-8f88-adb8b9b8aee0",
   "metadata": {},
   "outputs": [
    {
     "name": "stdout",
     "output_type": "stream",
     "text": [
      "0     True\n",
      "1    False\n",
      "2     True\n",
      "3    False\n",
      "Name: Autores, dtype: bool\n"
     ]
    }
   ],
   "source": [
    "mascara= (df['Autores'] == 'Rick Riordan')\n",
    "print(mascara)"
   ]
  },
  {
   "cell_type": "code",
   "execution_count": 58,
   "id": "00e68538-e7aa-463b-a2d7-96560d17cdc7",
   "metadata": {},
   "outputs": [
    {
     "data": {
      "text/html": [
       "<div>\n",
       "<style scoped>\n",
       "    .dataframe tbody tr th:only-of-type {\n",
       "        vertical-align: middle;\n",
       "    }\n",
       "\n",
       "    .dataframe tbody tr th {\n",
       "        vertical-align: top;\n",
       "    }\n",
       "\n",
       "    .dataframe thead th {\n",
       "        text-align: right;\n",
       "    }\n",
       "</style>\n",
       "<table border=\"1\" class=\"dataframe\">\n",
       "  <thead>\n",
       "    <tr style=\"text-align: right;\">\n",
       "      <th></th>\n",
       "      <th>Autores</th>\n",
       "      <th>Titulos</th>\n",
       "      <th>Preço</th>\n",
       "    </tr>\n",
       "  </thead>\n",
       "  <tbody>\n",
       "    <tr>\n",
       "      <th>0</th>\n",
       "      <td>Rick Riordan</td>\n",
       "      <td>ladrão de raios</td>\n",
       "      <td>41.2</td>\n",
       "    </tr>\n",
       "    <tr>\n",
       "      <th>2</th>\n",
       "      <td>Rick Riordan</td>\n",
       "      <td>mar de monstros</td>\n",
       "      <td>39.5</td>\n",
       "    </tr>\n",
       "  </tbody>\n",
       "</table>\n",
       "</div>"
      ],
      "text/plain": [
       "        Autores          Titulos  Preço\n",
       "0  Rick Riordan  ladrão de raios   41.2\n",
       "2  Rick Riordan  mar de monstros   39.5"
      ]
     },
     "execution_count": 58,
     "metadata": {},
     "output_type": "execute_result"
    }
   ],
   "source": [
    "df[mascara]"
   ]
  },
  {
   "cell_type": "code",
   "execution_count": 22,
   "id": "761d9f43-81a3-4db3-b985-f26f84bf3c70",
   "metadata": {},
   "outputs": [
    {
     "data": {
      "text/plain": [
       "0       ladrão de raios\n",
       "2       mar de monstros\n",
       "4    a maldição do titã\n",
       "Name: Titulos, dtype: object"
      ]
     },
     "execution_count": 22,
     "metadata": {},
     "output_type": "execute_result"
    }
   ],
   "source": [
    "df[df['Autores'] == 'Rick Riordan']['Titulos']\n"
   ]
  },
  {
   "cell_type": "code",
   "execution_count": 7,
   "id": "3e4c05c2-f945-478e-92ec-2d1ffe1496b4",
   "metadata": {},
   "outputs": [],
   "source": [
    "df = df._append({'Autores':'Rick Riordan','Titulos':'a maldiça do titan','Preço':40.2}, ignore_index = True)"
   ]
  },
  {
   "cell_type": "code",
   "execution_count": 9,
   "id": "d02fcae8-1dfe-4e83-8a6a-e86caf8a02f1",
   "metadata": {},
   "outputs": [],
   "source": [
    "mascara_correcao = df['Titulos'] == 'a maldiça do titan'"
   ]
  },
  {
   "cell_type": "code",
   "execution_count": 13,
   "id": "c01cfe5d-d945-41b1-96c3-490e4a820950",
   "metadata": {},
   "outputs": [],
   "source": [
    "df.loc[mascara_correcao, 'Titulos'] = 'a maldição do titã'"
   ]
  },
  {
   "cell_type": "code",
   "execution_count": 14,
   "id": "a74b2edb-0376-46b5-8830-add923b6571b",
   "metadata": {},
   "outputs": [
    {
     "data": {
      "text/html": [
       "<div>\n",
       "<style scoped>\n",
       "    .dataframe tbody tr th:only-of-type {\n",
       "        vertical-align: middle;\n",
       "    }\n",
       "\n",
       "    .dataframe tbody tr th {\n",
       "        vertical-align: top;\n",
       "    }\n",
       "\n",
       "    .dataframe thead th {\n",
       "        text-align: right;\n",
       "    }\n",
       "</style>\n",
       "<table border=\"1\" class=\"dataframe\">\n",
       "  <thead>\n",
       "    <tr style=\"text-align: right;\">\n",
       "      <th></th>\n",
       "      <th>Autores</th>\n",
       "      <th>Titulos</th>\n",
       "      <th>Preço</th>\n",
       "    </tr>\n",
       "  </thead>\n",
       "  <tbody>\n",
       "    <tr>\n",
       "      <th>0</th>\n",
       "      <td>Rick Riordan</td>\n",
       "      <td>ladrão de raios</td>\n",
       "      <td>41.2</td>\n",
       "    </tr>\n",
       "    <tr>\n",
       "      <th>1</th>\n",
       "      <td>J. R. R. Tolkien</td>\n",
       "      <td>sociedade do anel</td>\n",
       "      <td>35.7</td>\n",
       "    </tr>\n",
       "    <tr>\n",
       "      <th>2</th>\n",
       "      <td>Rick Riordan</td>\n",
       "      <td>mar de monstros</td>\n",
       "      <td>39.5</td>\n",
       "    </tr>\n",
       "    <tr>\n",
       "      <th>3</th>\n",
       "      <td>Machado de Assis</td>\n",
       "      <td>memorias postumas de bras cubas</td>\n",
       "      <td>40.5</td>\n",
       "    </tr>\n",
       "    <tr>\n",
       "      <th>4</th>\n",
       "      <td>Rick Riordan</td>\n",
       "      <td>a maldição do titã</td>\n",
       "      <td>40.2</td>\n",
       "    </tr>\n",
       "  </tbody>\n",
       "</table>\n",
       "</div>"
      ],
      "text/plain": [
       "            Autores                          Titulos  Preço\n",
       "0      Rick Riordan                  ladrão de raios   41.2\n",
       "1  J. R. R. Tolkien                sociedade do anel   35.7\n",
       "2      Rick Riordan                  mar de monstros   39.5\n",
       "3  Machado de Assis  memorias postumas de bras cubas   40.5\n",
       "4      Rick Riordan               a maldição do titã   40.2"
      ]
     },
     "execution_count": 14,
     "metadata": {},
     "output_type": "execute_result"
    }
   ],
   "source": [
    "df"
   ]
  },
  {
   "cell_type": "code",
   "execution_count": null,
   "id": "13f67937-95ba-48fa-8dcd-3eef74ce2b6b",
   "metadata": {},
   "outputs": [],
   "source": []
  }
 ],
 "metadata": {
  "kernelspec": {
   "display_name": "Python 3 (ipykernel)",
   "language": "python",
   "name": "python3"
  },
  "language_info": {
   "codemirror_mode": {
    "name": "ipython",
    "version": 3
   },
   "file_extension": ".py",
   "mimetype": "text/x-python",
   "name": "python",
   "nbconvert_exporter": "python",
   "pygments_lexer": "ipython3",
   "version": "3.11.7"
  }
 },
 "nbformat": 4,
 "nbformat_minor": 5
}
